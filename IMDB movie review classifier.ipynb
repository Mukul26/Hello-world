{
  "nbformat": 4,
  "nbformat_minor": 0,
  "metadata": {
    "colab": {
      "name": "Untitled1.ipynb",
      "provenance": [],
      "collapsed_sections": [],
      "authorship_tag": "ABX9TyNyUC+aVdmFluK6alr8/XBd"
    },
    "kernelspec": {
      "name": "python3",
      "display_name": "Python 3"
    }
  },
  "cells": [
    {
      "cell_type": "code",
      "metadata": {
        "id": "VkuW9Kq5SUAb",
        "colab_type": "code",
        "colab": {}
      },
      "source": [
        "from keras.datasets import imdb"
      ],
      "execution_count": 0,
      "outputs": []
    },
    {
      "cell_type": "code",
      "metadata": {
        "id": "eylVeX3cStUb",
        "colab_type": "code",
        "colab": {}
      },
      "source": [
        "(train_data, train_labels), (test_data, test_labels) = imdb.load_data(num_words=10000)"
      ],
      "execution_count": 0,
      "outputs": []
    },
    {
      "cell_type": "code",
      "metadata": {
        "id": "sLSQLTDATIv1",
        "colab_type": "code",
        "outputId": "afcb7e53-a395-43ae-b282-f10ccf50c664",
        "colab": {
          "base_uri": "https://localhost:8080/",
          "height": 34
        }
      },
      "source": [
        "max(train_data[0])"
      ],
      "execution_count": 26,
      "outputs": [
        {
          "output_type": "execute_result",
          "data": {
            "text/plain": [
              "7486"
            ]
          },
          "metadata": {
            "tags": []
          },
          "execution_count": 26
        }
      ]
    },
    {
      "cell_type": "code",
      "metadata": {
        "id": "Bj_JFIjCTRK7",
        "colab_type": "code",
        "colab": {}
      },
      "source": [
        "word_index = imdb.get_word_index()\n",
        "reverse_word_index = dict(\n",
        "[(value, key) for (key, value) in word_index.items()])\n",
        "decoded_review = ' '.join(\n",
        "[reverse_word_index.get(i - 3, '?') for i in train_data[0]])"
      ],
      "execution_count": 0,
      "outputs": []
    },
    {
      "cell_type": "code",
      "metadata": {
        "id": "ezjep504Wy17",
        "colab_type": "code",
        "outputId": "9f4ae9be-2c3a-46c2-994b-06e789cf548b",
        "colab": {
          "base_uri": "https://localhost:8080/",
          "height": 54
        }
      },
      "source": [
        "decoded_review"
      ],
      "execution_count": 28,
      "outputs": [
        {
          "output_type": "execute_result",
          "data": {
            "text/plain": [
              "\"? this film was just brilliant casting location scenery story direction everyone's really suited the part they played and you could just imagine being there robert ? is an amazing actor and now the same being director ? father came from the same scottish island as myself so i loved the fact there was a real connection with this film the witty remarks throughout the film were great it was just brilliant so much that i bought the film as soon as it was released for ? and would recommend it to everyone to watch and the fly fishing was amazing really cried at the end it was so sad and you know what they say if you cry at a film it must have been good and this definitely was also ? to the two little boy's that played the ? of norman and paul they were just brilliant children are often left out of the ? list i think because the stars that play them all grown up are such a big profile for the whole film but these children are amazing and should be praised for what they have done don't you think the whole story was so lovely because it was true and was someone's life after all that was shared with us all\""
            ]
          },
          "metadata": {
            "tags": []
          },
          "execution_count": 28
        }
      ]
    },
    {
      "cell_type": "code",
      "metadata": {
        "id": "5JdpHcXDW5rY",
        "colab_type": "code",
        "colab": {}
      },
      "source": [
        "import numpy as np"
      ],
      "execution_count": 0,
      "outputs": []
    },
    {
      "cell_type": "code",
      "metadata": {
        "id": "e0yEKupadlMX",
        "colab_type": "code",
        "colab": {}
      },
      "source": [
        "def vec_seq(sequences, dimensions=10000):\n",
        "  results = np.zeros((len(sequences),dimensions))\n",
        "  for i, sequence in enumerate(sequences):\n",
        "    results[i,sequence] = 1\n",
        "  return results\n",
        "x_train = vec_seq(train_data)\n",
        "x_test = vec_seq(test_data)"
      ],
      "execution_count": 0,
      "outputs": []
    },
    {
      "cell_type": "code",
      "metadata": {
        "id": "8T6oHkhwsJF8",
        "colab_type": "code",
        "outputId": "9c1764a4-c175-4b05-ec04-40a0a8b98436",
        "colab": {
          "base_uri": "https://localhost:8080/",
          "height": 34
        }
      },
      "source": [
        "len(x_train[0])"
      ],
      "execution_count": 31,
      "outputs": [
        {
          "output_type": "execute_result",
          "data": {
            "text/plain": [
              "10000"
            ]
          },
          "metadata": {
            "tags": []
          },
          "execution_count": 31
        }
      ]
    },
    {
      "cell_type": "code",
      "metadata": {
        "id": "og-Pf726svWy",
        "colab_type": "code",
        "colab": {}
      },
      "source": [
        "y_train = np.asarray(train_labels).astype('float32')\n",
        "y_test = np.asarray(test_labels).astype('float32')"
      ],
      "execution_count": 0,
      "outputs": []
    },
    {
      "cell_type": "code",
      "metadata": {
        "id": "jAlsr2O-A4Qf",
        "colab_type": "code",
        "colab": {}
      },
      "source": [
        "#The model definition\n",
        "from keras import models\n",
        "from keras import layers\n",
        "model = models.Sequential()\n",
        "model.add(layers.Dense(16, activation='relu', input_shape=(10000,)))\n",
        "model.add(layers.Dense(16, activation='relu'))\n",
        "model.add(layers.Dense(1, activation='sigmoid'))"
      ],
      "execution_count": 0,
      "outputs": []
    },
    {
      "cell_type": "code",
      "metadata": {
        "id": "YtkkuXBNPh9h",
        "colab_type": "code",
        "colab": {}
      },
      "source": [
        "#Compiling the model\n",
        "model.compile(optimizer='rmsprop',\n",
        "loss='binary_crossentropy',\n",
        "metrics=['accuracy'])"
      ],
      "execution_count": 0,
      "outputs": []
    },
    {
      "cell_type": "code",
      "metadata": {
        "id": "b1kgzME8Ps90",
        "colab_type": "code",
        "colab": {}
      },
      "source": [
        "#Configuring the optimizer\n",
        "from keras import optimizers\n",
        "model.compile(optimizer=optimizers.RMSprop(lr=0.001),\n",
        "loss='binary_crossentropy',\n",
        "metrics=['accuracy'])"
      ],
      "execution_count": 0,
      "outputs": []
    },
    {
      "cell_type": "code",
      "metadata": {
        "id": "upaF_-DGP3VS",
        "colab_type": "code",
        "colab": {}
      },
      "source": [
        "#Using custom losses and metrics\n",
        "from keras import losses\n",
        "from keras import metrics\n",
        "model.compile(optimizer=optimizers.RMSprop(lr=0.001),\n",
        "loss=losses.binary_crossentropy,\n",
        "metrics=[metrics.binary_accuracy])"
      ],
      "execution_count": 0,
      "outputs": []
    },
    {
      "cell_type": "code",
      "metadata": {
        "id": "WOMFHmOIQCly",
        "colab_type": "code",
        "colab": {}
      },
      "source": [
        "#Setting aside a validation set\n",
        "x_val = x_train[:10000]\n",
        "partial_x_train = x_train[10000:]\n",
        "y_val = y_train[:10000]\n",
        "partial_y_train = y_train[10000:]"
      ],
      "execution_count": 0,
      "outputs": []
    },
    {
      "cell_type": "code",
      "metadata": {
        "id": "jkhz9DtbQW9C",
        "colab_type": "code",
        "colab": {
          "base_uri": "https://localhost:8080/",
          "height": 714
        },
        "outputId": "1ad3b733-7b59-4469-fe1d-66aa8f2e92f1"
      },
      "source": [
        "#Training your model\n",
        "model.compile(optimizer='rmsprop',\n",
        "loss='binary_crossentropy',\n",
        "metrics=['acc'])\n",
        "history = model.fit(partial_x_train,\n",
        "partial_y_train,\n",
        "epochs=20,\n",
        "batch_size=512,\n",
        "validation_data=(x_val, y_val))"
      ],
      "execution_count": 38,
      "outputs": [
        {
          "output_type": "stream",
          "text": [
            "Train on 15000 samples, validate on 10000 samples\n",
            "Epoch 1/20\n",
            "15000/15000 [==============================] - 2s 154us/step - loss: 0.5316 - acc: 0.7863 - val_loss: 0.3980 - val_acc: 0.8675\n",
            "Epoch 2/20\n",
            "15000/15000 [==============================] - 2s 142us/step - loss: 0.3146 - acc: 0.9002 - val_loss: 0.3336 - val_acc: 0.8625\n",
            "Epoch 3/20\n",
            "15000/15000 [==============================] - 2s 143us/step - loss: 0.2294 - acc: 0.9255 - val_loss: 0.2884 - val_acc: 0.8854\n",
            "Epoch 4/20\n",
            "15000/15000 [==============================] - 2s 143us/step - loss: 0.1792 - acc: 0.9407 - val_loss: 0.2796 - val_acc: 0.8875\n",
            "Epoch 5/20\n",
            "15000/15000 [==============================] - 2s 143us/step - loss: 0.1440 - acc: 0.9534 - val_loss: 0.2787 - val_acc: 0.8867\n",
            "Epoch 6/20\n",
            "15000/15000 [==============================] - 2s 143us/step - loss: 0.1199 - acc: 0.9615 - val_loss: 0.3144 - val_acc: 0.8807\n",
            "Epoch 7/20\n",
            "15000/15000 [==============================] - 2s 144us/step - loss: 0.1013 - acc: 0.9700 - val_loss: 0.3078 - val_acc: 0.8833\n",
            "Epoch 8/20\n",
            "15000/15000 [==============================] - 2s 143us/step - loss: 0.0802 - acc: 0.9771 - val_loss: 0.3455 - val_acc: 0.8806\n",
            "Epoch 9/20\n",
            "15000/15000 [==============================] - 2s 143us/step - loss: 0.0697 - acc: 0.9808 - val_loss: 0.3532 - val_acc: 0.8775\n",
            "Epoch 10/20\n",
            "15000/15000 [==============================] - 2s 142us/step - loss: 0.0545 - acc: 0.9867 - val_loss: 0.4053 - val_acc: 0.8749\n",
            "Epoch 11/20\n",
            "15000/15000 [==============================] - 2s 142us/step - loss: 0.0475 - acc: 0.9874 - val_loss: 0.4184 - val_acc: 0.8717\n",
            "Epoch 12/20\n",
            "15000/15000 [==============================] - 2s 142us/step - loss: 0.0345 - acc: 0.9931 - val_loss: 0.4462 - val_acc: 0.8757\n",
            "Epoch 13/20\n",
            "15000/15000 [==============================] - 2s 141us/step - loss: 0.0325 - acc: 0.9928 - val_loss: 0.4774 - val_acc: 0.8714\n",
            "Epoch 14/20\n",
            "15000/15000 [==============================] - 2s 142us/step - loss: 0.0225 - acc: 0.9963 - val_loss: 0.5048 - val_acc: 0.8687\n",
            "Epoch 15/20\n",
            "15000/15000 [==============================] - 2s 142us/step - loss: 0.0168 - acc: 0.9976 - val_loss: 0.5490 - val_acc: 0.8718\n",
            "Epoch 16/20\n",
            "15000/15000 [==============================] - 2s 141us/step - loss: 0.0151 - acc: 0.9978 - val_loss: 0.5835 - val_acc: 0.8662\n",
            "Epoch 17/20\n",
            "15000/15000 [==============================] - 2s 142us/step - loss: 0.0147 - acc: 0.9967 - val_loss: 0.6205 - val_acc: 0.8655\n",
            "Epoch 18/20\n",
            "15000/15000 [==============================] - 2s 140us/step - loss: 0.0064 - acc: 0.9998 - val_loss: 0.6583 - val_acc: 0.8667\n",
            "Epoch 19/20\n",
            "15000/15000 [==============================] - 2s 140us/step - loss: 0.0112 - acc: 0.9973 - val_loss: 0.6826 - val_acc: 0.8657\n",
            "Epoch 20/20\n",
            "15000/15000 [==============================] - 2s 140us/step - loss: 0.0038 - acc: 0.9999 - val_loss: 0.7096 - val_acc: 0.8625\n"
          ],
          "name": "stdout"
        }
      ]
    },
    {
      "cell_type": "code",
      "metadata": {
        "id": "zCax7Gg0QkPs",
        "colab_type": "code",
        "colab": {}
      },
      "source": [
        "history_dict = history.history"
      ],
      "execution_count": 0,
      "outputs": []
    },
    {
      "cell_type": "code",
      "metadata": {
        "id": "MfigmZyoQ5iA",
        "colab_type": "code",
        "colab": {
          "base_uri": "https://localhost:8080/",
          "height": 34
        },
        "outputId": "e191bebc-4446-4cc0-c9b1-cc811a6563de"
      },
      "source": [
        "history_dict.keys()"
      ],
      "execution_count": 40,
      "outputs": [
        {
          "output_type": "execute_result",
          "data": {
            "text/plain": [
              "dict_keys(['val_loss', 'val_acc', 'loss', 'acc'])"
            ]
          },
          "metadata": {
            "tags": []
          },
          "execution_count": 40
        }
      ]
    },
    {
      "cell_type": "markdown",
      "metadata": {
        "id": "237DADNSR5X4",
        "colab_type": "text"
      },
      "source": [
        ""
      ]
    },
    {
      "cell_type": "code",
      "metadata": {
        "id": "pCng-LdpQ9cH",
        "colab_type": "code",
        "colab": {
          "base_uri": "https://localhost:8080/",
          "height": 295
        },
        "outputId": "551e9172-88e9-46ee-fb6a-dd1be77c90da"
      },
      "source": [
        "#Plotting the training and validation loss\n",
        "import matplotlib.pyplot as plt\n",
        "history_dict = history.history\n",
        "loss_values = history_dict['loss']\n",
        "val_loss_values = history_dict['val_loss']\n",
        "epochs = range(1, 21)\n",
        "plt.plot(epochs, loss_values, 'bo', label='Training loss')\n",
        "plt.plot(epochs, val_loss_values, 'b', label='Validation loss')\n",
        "plt.title('Training and validation loss')\n",
        "plt.xlabel('Epochs')\n",
        "plt.ylabel('Loss')\n",
        "plt.legend()\n",
        "plt.show()"
      ],
      "execution_count": 41,
      "outputs": [
        {
          "output_type": "display_data",
          "data": {
            "image/png": "[encoded data removed]",
            "text/plain": [
              "<Figure size 432x288 with 1 Axes>"
            ]
          },
          "metadata": {
            "tags": [],
            "needs_background": "light"
          }
        }
      ]
    },
    {
      "cell_type": "code",
      "metadata": {
        "id": "d9XESHfcRvEh",
        "colab_type": "code",
        "colab": {
          "base_uri": "https://localhost:8080/",
          "height": 295
        },
        "outputId": "6b8965dd-6814-487c-a4f9-425161c749c1"
      },
      "source": [
        "#plotting the training and validation accuracy\n",
        "val_accu = history_dict['val_acc']\n",
        "train_accu = history_dict['acc']\n",
        "plt.plot(epochs, train_accu, 'bo',label='Training accuracy')\n",
        "plt.plot(epochs, val_accu, 'b', label='Validation accuracy')\n",
        "plt.title('Training and validation accuracy')\n",
        "plt.xlabel('Epochs')\n",
        "plt.ylabel('Accuracy')\n",
        "plt.legend()\n",
        "plt.show()"
      ],
      "execution_count": 42,
      "outputs": [
        {
          "output_type": "display_data",
          "data": {
            "image/png": "[encoded data removed]",
            "text/plain": [
              "<Figure size 432x288 with 1 Axes>"
            ]
          },
          "metadata": {
            "tags": [],
            "needs_background": "light"
          }
        }
      ]
    },
    {
      "cell_type": "code",
      "metadata": {
        "id": "gkN6gv0mAgyV",
        "colab_type": "code",
        "colab": {
          "base_uri": "https://localhost:8080/",
          "height": 170
        },
        "outputId": "6167bb80-bc98-4b02-edee-fa35439ddcc3"
      },
      "source": [
        "#retraining a model from scratch\n",
        "model = models.Sequential()\n",
        "model.add(layers.Dense(16, activation='relu', input_shape=(10000,)))\n",
        "model.add(layers.Dense(16, activation='relu'))\n",
        "model.add(layers.Dense(1, activation='sigmoid'))\n",
        "model.compile(optimizer='rmsprop',\n",
        "loss='binary_crossentropy',\n",
        "metrics=['accuracy'])\n",
        "model.fit(x_train, y_train, epochs=4, batch_size=512)\n",
        "results = model.evaluate(x_test, y_test)"
      ],
      "execution_count": 43,
      "outputs": [
        {
          "output_type": "stream",
          "text": [
            "Epoch 1/4\n",
            "25000/25000 [==============================] - 3s 108us/step - loss: 0.4428 - accuracy: 0.8258\n",
            "Epoch 2/4\n",
            "25000/25000 [==============================] - 2s 100us/step - loss: 0.2591 - accuracy: 0.9092\n",
            "Epoch 3/4\n",
            "25000/25000 [==============================] - 2s 99us/step - loss: 0.2017 - accuracy: 0.9281\n",
            "Epoch 4/4\n",
            "25000/25000 [==============================] - 2s 100us/step - loss: 0.1673 - accuracy: 0.9414\n",
            "25000/25000 [==============================] - 2s 75us/step\n"
          ],
          "name": "stdout"
        }
      ]
    },
    {
      "cell_type": "code",
      "metadata": {
        "id": "Ji7xTv22BWnm",
        "colab_type": "code",
        "colab": {
          "base_uri": "https://localhost:8080/",
          "height": 34
        },
        "outputId": "9e39f001-a8b5-45f6-fa94-985ac2834076"
      },
      "source": [
        "results"
      ],
      "execution_count": 44,
      "outputs": [
        {
          "output_type": "execute_result",
          "data": {
            "text/plain": [
              "[0.3274723095989227, 0.8700399994850159]"
            ]
          },
          "metadata": {
            "tags": []
          },
          "execution_count": 44
        }
      ]
    },
    {
      "cell_type": "code",
      "metadata": {
        "id": "bAbaSNSNBdk-",
        "colab_type": "code",
        "colab": {
          "base_uri": "https://localhost:8080/",
          "height": 136
        },
        "outputId": "53b59496-26c8-4568-8c71-b3a87a7f29b3"
      },
      "source": [
        "#using already trained model to predict something\n",
        "model.predict(x_test)"
      ],
      "execution_count": 45,
      "outputs": [
        {
          "output_type": "execute_result",
          "data": {
            "text/plain": [
              "array([[0.17315209],\n",
              "       [0.9998774 ],\n",
              "       [0.5467615 ],\n",
              "       ...,\n",
              "       [0.06221196],\n",
              "       [0.04938841],\n",
              "       [0.37555355]], dtype=float32)"
            ]
          },
          "metadata": {
            "tags": []
          },
          "execution_count": 45
        }
      ]
    },
    {
      "cell_type": "code",
      "metadata": {
        "id": "Lbi0ngU9CCbg",
        "colab_type": "code",
        "colab": {}
      },
      "source": [
        ""
      ],
      "execution_count": 0,
      "outputs": []
    }
  ]
}